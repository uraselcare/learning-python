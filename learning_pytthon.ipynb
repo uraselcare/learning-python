{
  "nbformat": 4,
  "nbformat_minor": 0,
  "metadata": {
    "colab": {
      "provenance": [],
      "authorship_tag": "ABX9TyOaXOigRL85F1ocopbk5Bjr",
      "include_colab_link": true
    },
    "kernelspec": {
      "name": "python3",
      "display_name": "Python 3"
    },
    "language_info": {
      "name": "python"
    }
  },
  "cells": [
    {
      "cell_type": "markdown",
      "metadata": {
        "id": "view-in-github",
        "colab_type": "text"
      },
      "source": [
        "<a href=\"https://colab.research.google.com/github/uraselcare/learning-python/blob/main/learning_pytthon.ipynb\" target=\"_parent\"><img src=\"https://colab.research.google.com/assets/colab-badge.svg\" alt=\"Open In Colab\"/></a>"
      ]
    },
    {
      "cell_type": "code",
      "execution_count": 2,
      "metadata": {
        "colab": {
          "base_uri": "https://localhost:8080/"
        },
        "id": "TlUapAeSvPli",
        "outputId": "ecc24faf-bd2d-4464-f8fb-c09e057af008"
      },
      "outputs": [
        {
          "output_type": "stream",
          "name": "stdout",
          "text": [
            "6\n",
            "0.5\n",
            "2\n"
          ]
        }
      ],
      "source": [
        "#learning basic arithmatic\n",
        "print(2*3) #product\n",
        "print(2/4) #divide\n",
        "print(2%3) #mod"
      ]
    },
    {
      "cell_type": "code",
      "source": [
        "#Exercise 1.1 Show that the number 142857 is cyclic, meaning if we multiply it by\n",
        "#any of the numbers 1 to 6, the result will be a permutation of the digits of the original\n",
        "#number 142857\n",
        "print(142857*2,142857*3,142857*4,142857*5,142857*6)\n"
      ],
      "metadata": {
        "colab": {
          "base_uri": "https://localhost:8080/"
        },
        "id": "OyW-t8khvwmR",
        "outputId": "e6f4d894-411e-4296-cb49-3ba6fa33703b"
      },
      "execution_count": 3,
      "outputs": [
        {
          "output_type": "stream",
          "name": "stdout",
          "text": [
            "285714 428571 571428 714285 857142\n"
          ]
        }
      ]
    },
    {
      "cell_type": "code",
      "source": [
        "#math library\n",
        "import math\n",
        "math.pi\n",
        "math.sin(math.pi/2)\n"
      ],
      "metadata": {
        "colab": {
          "base_uri": "https://localhost:8080/"
        },
        "id": "ICzTMVzJwYXJ",
        "outputId": "0b90c677-634c-462d-a801-b1f37bcfec8d"
      },
      "execution_count": 6,
      "outputs": [
        {
          "output_type": "execute_result",
          "data": {
            "text/plain": [
              "1.0"
            ]
          },
          "metadata": {},
          "execution_count": 6
        }
      ]
    },
    {
      "cell_type": "code",
      "source": [
        "#Exercise 1.2 Show that for any chosen angle 𝑥, Python gives sin2 (𝑥)+cos2 (𝑥)=1.\n",
        "x=math.pi/3\n",
        "(math.sin(x))**2+(math.cos(x))**2\n",
        "def calculate(x):\n",
        "\n",
        "  return ((math.sin(x))**2+(math.cos(x))**2)"
      ],
      "metadata": {
        "id": "3TkQHeQLy4-N"
      },
      "execution_count": 14,
      "outputs": []
    },
    {
      "cell_type": "code",
      "source": [
        "calculate(math.pi/3)\n",
        "\n"
      ],
      "metadata": {
        "colab": {
          "base_uri": "https://localhost:8080/"
        },
        "id": "Jc2B1HYpzTdm",
        "outputId": "3bae69e2-54bc-4bc4-880d-81ff070326a4"
      },
      "execution_count": 15,
      "outputs": [
        {
          "output_type": "execute_result",
          "data": {
            "text/plain": [
              "1.0"
            ]
          },
          "metadata": {},
          "execution_count": 15
        }
      ]
    },
    {
      "cell_type": "code",
      "source": [],
      "metadata": {
        "id": "I96qCpts0Yxg"
      },
      "execution_count": null,
      "outputs": []
    }
  ]
}